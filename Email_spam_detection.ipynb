{
 "cells": [
  {
   "cell_type": "code",
   "execution_count": null,
   "id": "c34943f7-dadc-4a4f-bc08-0c793f9f644f",
   "metadata": {},
   "outputs": [],
   "source": [
    "##import numpy as np: Imports NumPy for numerical operations (like handling arrays).\n",
    "##import pandas as pd: Imports Pandas for data manipulation (like working with tables/dataframes).\n",
    "##from sklearn.model_selection import train_test_split: Imports a function to split your data into training and testing sets.\n",
    "##from sklearn.feature_extraction.text import TfidfVectorizer: Imports a tool to convert text into numerical features using TF-IDF.\n",
    "##from sklearn.linear_model import LogisticRegression: Imports the Logistic Regression model for classification.\n",
    "##from sklearn.metrics import accuracy_score: Imports a function to calculate the accuracy of your model."
   ]
  },
  {
   "cell_type": "code",
   "execution_count": 9,
   "id": "aeff1b05-69ae-4350-bac8-50ce805c4d19",
   "metadata": {},
   "outputs": [],
   "source": [
    "import numpy as np\n",
    "import pandas as pd\n",
    "from sklearn.model_selection import train_test_split\n",
    "from sklearn.feature_extraction.text import TfidfVectorizer\n",
    "from sklearn.linear_model import LogisticRegression\n",
    "from sklearn.metrics import accuracy_score\n"
   ]
  },
  {
   "cell_type": "code",
   "execution_count": 10,
   "id": "76aa9e09-4105-4a9e-9502-8ecd39e0b3c6",
   "metadata": {},
   "outputs": [],
   "source": [
    "df=pd.read_csv('mail_data.csv')"
   ]
  },
  {
   "cell_type": "code",
   "execution_count": null,
   "id": "0f13fba1-f699-4c4b-a549-02aa777f5116",
   "metadata": {},
   "outputs": [],
   "source": [
    "##This line reads your email dataset from a file named \"mail_data.csv\" and stores it in a Pandas DataFrame called df"
   ]
  },
  {
   "cell_type": "code",
   "execution_count": 11,
   "id": "5676db96-521e-4b98-bdc8-02b4446bcf43",
   "metadata": {},
   "outputs": [
    {
     "name": "stdout",
     "output_type": "stream",
     "text": [
      "     Category                                            Message\n",
      "0         ham  Go until jurong point, crazy.. Available only ...\n",
      "1         ham                      Ok lar... Joking wif u oni...\n",
      "2        spam  Free entry in 2 a wkly comp to win FA Cup fina...\n",
      "3         ham  U dun say so early hor... U c already then say...\n",
      "4         ham  Nah I don't think he goes to usf, he lives aro...\n",
      "...       ...                                                ...\n",
      "5567     spam  This is the 2nd time we have tried 2 contact u...\n",
      "5568      ham               Will ü b going to esplanade fr home?\n",
      "5569      ham  Pity, * was in mood for that. So...any other s...\n",
      "5570      ham  The guy did some bitching but I acted like i'd...\n",
      "5571      ham                         Rofl. Its true to its name\n",
      "\n",
      "[5572 rows x 2 columns]\n"
     ]
    }
   ],
   "source": [
    "print(df)"
   ]
  },
  {
   "cell_type": "code",
   "execution_count": null,
   "id": "efd5b871-ab7a-4d27-88e8-2a3b4f9296e6",
   "metadata": {},
   "outputs": [],
   "source": [
    "##This line displays the contents of your email dataset (the df DataFrame) in your console. You'll see the rows and columns of your data,\n",
    "##showing the emails and their labels (spam or ham)"
   ]
  },
  {
   "cell_type": "code",
   "execution_count": 12,
   "id": "ff381306-2792-49cd-9070-b00ceb7ef6c0",
   "metadata": {},
   "outputs": [],
   "source": [
    "data=df.where((pd.notnull(df)), '')"
   ]
  },
  {
   "cell_type": "code",
   "execution_count": null,
   "id": "d5a8e052-0d10-4eb3-84ab-31a09146fac9",
   "metadata": {},
   "outputs": [],
   "source": [
    "##This line handles missing values in your dataset. It replaces any \"null\" (empty) cells in your DataFrame df with empty strings (''). \n",
    "##This ensures your data is clean and consistent for further processing."
   ]
  },
  {
   "cell_type": "code",
   "execution_count": 16,
   "id": "44d6c00c-07f0-4851-a4b0-fe522ce43257",
   "metadata": {},
   "outputs": [
    {
     "data": {
      "text/html": [
       "<div>\n",
       "<style scoped>\n",
       "    .dataframe tbody tr th:only-of-type {\n",
       "        vertical-align: middle;\n",
       "    }\n",
       "\n",
       "    .dataframe tbody tr th {\n",
       "        vertical-align: top;\n",
       "    }\n",
       "\n",
       "    .dataframe thead th {\n",
       "        text-align: right;\n",
       "    }\n",
       "</style>\n",
       "<table border=\"1\" class=\"dataframe\">\n",
       "  <thead>\n",
       "    <tr style=\"text-align: right;\">\n",
       "      <th></th>\n",
       "      <th>Category</th>\n",
       "      <th>Message</th>\n",
       "    </tr>\n",
       "  </thead>\n",
       "  <tbody>\n",
       "    <tr>\n",
       "      <th>0</th>\n",
       "      <td>ham</td>\n",
       "      <td>Go until jurong point, crazy.. Available only ...</td>\n",
       "    </tr>\n",
       "    <tr>\n",
       "      <th>1</th>\n",
       "      <td>ham</td>\n",
       "      <td>Ok lar... Joking wif u oni...</td>\n",
       "    </tr>\n",
       "    <tr>\n",
       "      <th>2</th>\n",
       "      <td>spam</td>\n",
       "      <td>Free entry in 2 a wkly comp to win FA Cup fina...</td>\n",
       "    </tr>\n",
       "    <tr>\n",
       "      <th>3</th>\n",
       "      <td>ham</td>\n",
       "      <td>U dun say so early hor... U c already then say...</td>\n",
       "    </tr>\n",
       "    <tr>\n",
       "      <th>4</th>\n",
       "      <td>ham</td>\n",
       "      <td>Nah I don't think he goes to usf, he lives aro...</td>\n",
       "    </tr>\n",
       "    <tr>\n",
       "      <th>5</th>\n",
       "      <td>spam</td>\n",
       "      <td>FreeMsg Hey there darling it's been 3 week's n...</td>\n",
       "    </tr>\n",
       "    <tr>\n",
       "      <th>6</th>\n",
       "      <td>ham</td>\n",
       "      <td>Even my brother is not like to speak with me. ...</td>\n",
       "    </tr>\n",
       "    <tr>\n",
       "      <th>7</th>\n",
       "      <td>ham</td>\n",
       "      <td>As per your request 'Melle Melle (Oru Minnamin...</td>\n",
       "    </tr>\n",
       "    <tr>\n",
       "      <th>8</th>\n",
       "      <td>spam</td>\n",
       "      <td>WINNER!! As a valued network customer you have...</td>\n",
       "    </tr>\n",
       "    <tr>\n",
       "      <th>9</th>\n",
       "      <td>spam</td>\n",
       "      <td>Had your mobile 11 months or more? U R entitle...</td>\n",
       "    </tr>\n",
       "  </tbody>\n",
       "</table>\n",
       "</div>"
      ],
      "text/plain": [
       "  Category                                            Message\n",
       "0      ham  Go until jurong point, crazy.. Available only ...\n",
       "1      ham                      Ok lar... Joking wif u oni...\n",
       "2     spam  Free entry in 2 a wkly comp to win FA Cup fina...\n",
       "3      ham  U dun say so early hor... U c already then say...\n",
       "4      ham  Nah I don't think he goes to usf, he lives aro...\n",
       "5     spam  FreeMsg Hey there darling it's been 3 week's n...\n",
       "6      ham  Even my brother is not like to speak with me. ...\n",
       "7      ham  As per your request 'Melle Melle (Oru Minnamin...\n",
       "8     spam  WINNER!! As a valued network customer you have...\n",
       "9     spam  Had your mobile 11 months or more? U R entitle..."
      ]
     },
     "execution_count": 16,
     "metadata": {},
     "output_type": "execute_result"
    }
   ],
   "source": [
    "data.head(10)"
   ]
  },
  {
   "cell_type": "code",
   "execution_count": null,
   "id": "2f1e5365-beb9-4bdc-9c92-1e6582f9709a",
   "metadata": {},
   "outputs": [],
   "source": [
    "##This displays the first 10 rows of your cleaned email data (data). \n",
    "##It's a quick way to inspect the data and make sure it looks as expected after handling missing values\n",
    "## If u wan to show all rows and columns of dataset then nothing put in bracket, As an example i am using first 10 rows and columns of dataset"
   ]
  },
  {
   "cell_type": "code",
   "execution_count": 17,
   "id": "ec2b769a-fbeb-4e31-96b4-43533907cca7",
   "metadata": {},
   "outputs": [
    {
     "name": "stdout",
     "output_type": "stream",
     "text": [
      "<class 'pandas.core.frame.DataFrame'>\n",
      "RangeIndex: 5572 entries, 0 to 5571\n",
      "Data columns (total 2 columns):\n",
      " #   Column    Non-Null Count  Dtype \n",
      "---  ------    --------------  ----- \n",
      " 0   Category  5572 non-null   object\n",
      " 1   Message   5572 non-null   object\n",
      "dtypes: object(2)\n",
      "memory usage: 87.2+ KB\n"
     ]
    }
   ],
   "source": [
    "data.info()"
   ]
  },
  {
   "cell_type": "code",
   "execution_count": null,
   "id": "9dcfb52f-b722-4253-9f68-275346bb502d",
   "metadata": {},
   "outputs": [],
   "source": [
    "##This line provides a summary of your DataFrame data. It shows:\n",
    "        ##The number of rows and columns.\n",
    "        ##The data types of each column (e.g., text, numbers).\n",
    "        ##The number of non-null values in each column.\n",
    "##It's a quick way to get an overview of your data's structure and any potential issues."
   ]
  },
  {
   "cell_type": "code",
   "execution_count": 19,
   "id": "b9765898-10b1-41b1-8ad5-f49fdc700121",
   "metadata": {},
   "outputs": [
    {
     "data": {
      "text/plain": [
       "(5572, 2)"
      ]
     },
     "execution_count": 19,
     "metadata": {},
     "output_type": "execute_result"
    }
   ],
   "source": [
    "data.shape"
   ]
  },
  {
   "cell_type": "code",
   "execution_count": null,
   "id": "dc076ad0-2884-494d-bc32-146e9ea1bf6b",
   "metadata": {},
   "outputs": [],
   "source": [
    "##This line tells you the dimensions of your dataset (the data DataFrame).\n",
    "##It outputs a tuple: (number of rows, number of columns). This helps you quickly understand the size of your data."
   ]
  },
  {
   "cell_type": "code",
   "execution_count": 20,
   "id": "1259b24b-4058-4f65-80bb-ae345648d4fe",
   "metadata": {},
   "outputs": [],
   "source": [
    "data.loc[data['Category']== 'spam','Category',] = 0 \n",
    "data.loc[data['Category']== 'ham','Category',] = 1 "
   ]
  },
  {
   "cell_type": "code",
   "execution_count": null,
   "id": "d66b5415-e8f4-436c-bfc6-933bf7f098c1",
   "metadata": {},
   "outputs": [],
   "source": [
    "##These two lines convert the email category labels (\"spam\" and \"ham\") into numerical values:\n",
    "        ##\"spam\" is replaced with 0.\n",
    "        ##\"ham\" is replaced with 1.\n",
    "##This is necessary because machine learning models work with numbers, not text."
   ]
  },
  {
   "cell_type": "code",
   "execution_count": 21,
   "id": "3f617847-eebb-4942-895e-9a206dfa3fed",
   "metadata": {},
   "outputs": [],
   "source": [
    "X=data['Message']\n",
    "Y=data['Category']"
   ]
  },
  {
   "cell_type": "code",
   "execution_count": null,
   "id": "f9dd87ab-2b9a-4b23-a86e-2adb8c073198",
   "metadata": {},
   "outputs": [],
   "source": [
    "##These lines separate your data into features (X) and labels (Y):\n",
    "       ##X = data['Message']: X now contains the email messages (the text we'll use to predict spam).\n",
    "       ##Y = data['Category']: Y now contains the corresponding labels (0 for spam, 1 for ham)."
   ]
  },
  {
   "cell_type": "code",
   "execution_count": 22,
   "id": "9a8855fb-322d-4d37-8cbb-94a0b55ccc11",
   "metadata": {},
   "outputs": [
    {
     "name": "stdout",
     "output_type": "stream",
     "text": [
      "0       Go until jurong point, crazy.. Available only ...\n",
      "1                           Ok lar... Joking wif u oni...\n",
      "2       Free entry in 2 a wkly comp to win FA Cup fina...\n",
      "3       U dun say so early hor... U c already then say...\n",
      "4       Nah I don't think he goes to usf, he lives aro...\n",
      "                              ...                        \n",
      "5567    This is the 2nd time we have tried 2 contact u...\n",
      "5568                 Will ü b going to esplanade fr home?\n",
      "5569    Pity, * was in mood for that. So...any other s...\n",
      "5570    The guy did some bitching but I acted like i'd...\n",
      "5571                           Rofl. Its true to its name\n",
      "Name: Message, Length: 5572, dtype: object\n"
     ]
    }
   ],
   "source": [
    "print(X)"
   ]
  },
  {
   "cell_type": "code",
   "execution_count": null,
   "id": "dfad2b6d-15cf-4e16-aebb-7203598ef1d2",
   "metadata": {},
   "outputs": [],
   "source": [
    "##This line prints the email messages (the X variable) to your console.\n",
    "##You'll see the raw text of the emails, which will be used as input for your spam detection model."
   ]
  },
  {
   "cell_type": "code",
   "execution_count": 23,
   "id": "5c6c95bf-c228-475d-9444-7e2eac522032",
   "metadata": {},
   "outputs": [
    {
     "name": "stdout",
     "output_type": "stream",
     "text": [
      "0       1\n",
      "1       1\n",
      "2       0\n",
      "3       1\n",
      "4       1\n",
      "       ..\n",
      "5567    0\n",
      "5568    1\n",
      "5569    1\n",
      "5570    1\n",
      "5571    1\n",
      "Name: Category, Length: 5572, dtype: object\n"
     ]
    }
   ],
   "source": [
    "print(Y)"
   ]
  },
  {
   "cell_type": "code",
   "execution_count": null,
   "id": "aee2cf59-067e-40e1-8fef-2a70d6065c7d",
   "metadata": {},
   "outputs": [],
   "source": [
    "##This line prints the email category labels (the Y variable) to your console. \n",
    "##You'll see a series of 0s and 1s, representing \"spam\" and \"ham\" respectively, corresponding to each email in your dataset."
   ]
  },
  {
   "cell_type": "code",
   "execution_count": 24,
   "id": "61059c47-0756-4b3c-b098-650a251b3c33",
   "metadata": {},
   "outputs": [],
   "source": [
    "X_train,X_test,Y_train,Y_test=train_test_split(X,Y, test_size=0.2,random_state=3)"
   ]
  },
  {
   "cell_type": "code",
   "execution_count": null,
   "id": "0f6a93aa-615f-47a8-b9a9-5373cac8be71",
   "metadata": {},
   "outputs": [],
   "source": [
    "##This line splits your data into training and testing sets:\n",
    "        ##X_train, Y_train: Used to train your model.\n",
    "        ##X_test, Y_test: Used to evaluate how well your model performs on unseen data.\n",
    "        ##test_size=0.2: 20% of your data is used for testing, 80% for training.\n",
    "        ##random_state=3: Ensures the split is the same every time you run the code, for reproducibility."
   ]
  },
  {
   "cell_type": "code",
   "execution_count": 25,
   "id": "7bcea177-c5bc-45a6-8833-9c5d6ced1015",
   "metadata": {},
   "outputs": [
    {
     "name": "stdout",
     "output_type": "stream",
     "text": [
      "(5572,)\n",
      "(4457,)\n",
      "(1115,)\n"
     ]
    }
   ],
   "source": [
    "print(X.shape)\n",
    "print(X_train.shape)\n",
    "print(X_test.shape)"
   ]
  },
  {
   "cell_type": "code",
   "execution_count": null,
   "id": "1e62ea08-58ce-4b21-8431-838bb8317ef5",
   "metadata": {},
   "outputs": [],
   "source": [
    "##These lines print the shapes (dimensions) of your data:\n",
    "         ##print(X.shape): Shows the shape of the original email messages (all data).\n",
    "         ##print(X_train.shape): Shows the shape of the training email messages.\n",
    "         ##print(X_test.shape): Shows the shape of the testing email messages.\n",
    "##This helps you verify that the data has been split correctly and see the sizes of your training and testing sets."
   ]
  },
  {
   "cell_type": "code",
   "execution_count": 26,
   "id": "f7deebcd-bb93-4605-879e-b0941c0dc292",
   "metadata": {},
   "outputs": [
    {
     "name": "stdout",
     "output_type": "stream",
     "text": [
      "(5572,)\n",
      "(4457,)\n",
      "(1115,)\n"
     ]
    }
   ],
   "source": [
    "print(Y.shape)\n",
    "print(Y_train.shape)\n",
    "print(Y_test.shape)"
   ]
  },
  {
   "cell_type": "code",
   "execution_count": null,
   "id": "742f879f-cb1f-4760-8a96-0e459d4fd553",
   "metadata": {},
   "outputs": [],
   "source": [
    "##These lines print the shapes (dimensions) of your email category labels:\n",
    "          ##print(Y.shape): Shows the shape of the original labels (all data).\n",
    "          ##print(Y_train.shape): Shows the shape of the training labels.\n",
    "          ##print(Y_test.shape): Shows the shape of the testing labels.\n",
    "##This ensures that the labels have been split consistently with the email messages."
   ]
  },
  {
   "cell_type": "code",
   "execution_count": 33,
   "id": "ef6797d0-cf7b-4380-b46f-d15974f335e3",
   "metadata": {},
   "outputs": [],
   "source": [
    "from sklearn.feature_extraction.text import TfidfVectorizer\n",
    "\n",
    "feature_extraction = TfidfVectorizer(min_df=1, stop_words='english', lowercase=True) \n",
    "X_train_features = feature_extraction.fit_transform(X_train)\n",
    "X_test_features = feature_extraction.transform(X_test) \n",
    "\n",
    "Y_train = Y_train.astype('int')\n",
    "Y_test = Y_test.astype('int')"
   ]
  },
  {
   "cell_type": "code",
   "execution_count": null,
   "id": "49bc8ba0-ee79-4763-83b9-d8f8a370f551",
   "metadata": {},
   "outputs": [],
   "source": [
    "##This code converts the email text into numerical features using TF-IDF and ensures the labels are integers:\n",
    "      ##TfidfVectorizer(...):\n",
    "            ##Creates a tool to convert text to numbers using TF-IDF.\n",
    "            ##min_df=1: Ignores terms that appear in less than 1 document.\n",
    "            ##stop_words='english': Removes common English words (\"the,\" \"a,\" etc.).\n",
    "            ##lowercase=True: Converts all text to lowercase.\n",
    "      ##feature_extraction.fit_transform(X_train):\n",
    "            ##Learns the vocabulary and TF-IDF weights from the training emails (X_train) and transforms them into numerical features (X_train_features).\n",
    "      ##feature_extraction.transform(X_test):\n",
    "            ##Uses the already learned vocabulary and weights to transform the testing emails (X_test) into numerical features (X_test_features). \n",
    "            ##This is very important. You don't want to refit the vectorizer on test data.\n",
    "      ##Y_train = Y_train.astype('int') & Y_test = Y_test.astype('int'):\n",
    "            ##Converts the email category labels (Y_train, Y_test) to integers (0 or 1), which is necessary for the machine learning model."
   ]
  },
  {
   "cell_type": "code",
   "execution_count": 34,
   "id": "84b4cdf7-757f-4e50-afcf-02e3f7e0d3d3",
   "metadata": {},
   "outputs": [
    {
     "name": "stdout",
     "output_type": "stream",
     "text": [
      "  (0, 5413)\t0.6198254967574347\n",
      "  (0, 4456)\t0.4168658090846482\n",
      "  (0, 2224)\t0.413103377943378\n",
      "  (0, 3811)\t0.34780165336891333\n",
      "  (0, 2329)\t0.38783870336935383\n",
      "  (1, 4080)\t0.18880584110891163\n",
      "  (1, 3185)\t0.29694482957694585\n",
      "  (1, 3325)\t0.31610586766078863\n",
      "  (1, 2957)\t0.3398297002864083\n",
      "  (1, 2746)\t0.3398297002864083\n",
      "  (1, 918)\t0.22871581159877646\n",
      "  (1, 1839)\t0.2784903590561455\n",
      "  (1, 2758)\t0.3226407885943799\n",
      "  (1, 2956)\t0.33036995955537024\n",
      "  (1, 1991)\t0.33036995955537024\n",
      "  (1, 3046)\t0.2503712792613518\n",
      "  (1, 3811)\t0.17419952275504033\n",
      "  (2, 407)\t0.509272536051008\n",
      "  (2, 3156)\t0.4107239318312698\n",
      "  (2, 2404)\t0.45287711070606745\n",
      "  (2, 6601)\t0.6056811524587518\n",
      "  (3, 2870)\t0.5864269879324768\n",
      "  (3, 7414)\t0.8100020912469564\n",
      "  (4, 50)\t0.23633754072626942\n",
      "  (4, 5497)\t0.15743785051118356\n",
      "  :\t:\n",
      "  (4454, 4602)\t0.2669765732445391\n",
      "  (4454, 3142)\t0.32014451677763156\n",
      "  (4455, 2247)\t0.37052851863170466\n",
      "  (4455, 2469)\t0.35441545511837946\n",
      "  (4455, 5646)\t0.33545678464631296\n",
      "  (4455, 6810)\t0.29731757715898277\n",
      "  (4455, 6091)\t0.23103841516927642\n",
      "  (4455, 7113)\t0.30536590342067704\n",
      "  (4455, 3872)\t0.3108911491788658\n",
      "  (4455, 4715)\t0.30714144758811196\n",
      "  (4455, 6916)\t0.19636985317119715\n",
      "  (4455, 3922)\t0.31287563163368587\n",
      "  (4455, 4456)\t0.24920025316220423\n",
      "  (4456, 141)\t0.292943737785358\n",
      "  (4456, 647)\t0.30133182431707617\n",
      "  (4456, 6311)\t0.30133182431707617\n",
      "  (4456, 5569)\t0.4619395404299172\n",
      "  (4456, 6028)\t0.21034888000987115\n",
      "  (4456, 7154)\t0.24083218452280053\n",
      "  (4456, 7150)\t0.3677554681447669\n",
      "  (4456, 6249)\t0.17573831794959716\n",
      "  (4456, 6307)\t0.2752760476857975\n",
      "  (4456, 334)\t0.2220077711654938\n",
      "  (4456, 5778)\t0.16243064490100795\n",
      "  (4456, 2870)\t0.31523196273113385\n"
     ]
    }
   ],
   "source": [
    "print(X_train_features)"
   ]
  },
  {
   "cell_type": "code",
   "execution_count": null,
   "id": "b1d461fb-445c-4c45-8823-ec9e60e1ea11",
   "metadata": {},
   "outputs": [],
   "source": [
    "##This line prints the numerical representation of your training email messages (X_train_features).\n",
    "##You'll see a sparse matrix, where each row represents an email, and each column represents a word. \n",
    "##The values in the matrix are the TF-IDF scores, showing how important each word is to each email."
   ]
  },
  {
   "cell_type": "code",
   "execution_count": 35,
   "id": "f5a42e1b-3d6a-427f-86d9-ba75ad783df5",
   "metadata": {},
   "outputs": [],
   "source": [
    "model = LogisticRegression()"
   ]
  },
  {
   "cell_type": "code",
   "execution_count": null,
   "id": "67e0a5c6-1c72-4482-ac1b-8b3da821d4f4",
   "metadata": {},
   "outputs": [],
   "source": [
    "##This line creates an instance of the Logistic Regression model, ready to be trained on your data."
   ]
  },
  {
   "cell_type": "code",
   "execution_count": 36,
   "id": "602c7ff1-807f-4093-b711-da91f6c335c0",
   "metadata": {},
   "outputs": [
    {
     "data": {
      "text/html": [
       "<style>#sk-container-id-1 {color: black;background-color: white;}#sk-container-id-1 pre{padding: 0;}#sk-container-id-1 div.sk-toggleable {background-color: white;}#sk-container-id-1 label.sk-toggleable__label {cursor: pointer;display: block;width: 100%;margin-bottom: 0;padding: 0.3em;box-sizing: border-box;text-align: center;}#sk-container-id-1 label.sk-toggleable__label-arrow:before {content: \"▸\";float: left;margin-right: 0.25em;color: #696969;}#sk-container-id-1 label.sk-toggleable__label-arrow:hover:before {color: black;}#sk-container-id-1 div.sk-estimator:hover label.sk-toggleable__label-arrow:before {color: black;}#sk-container-id-1 div.sk-toggleable__content {max-height: 0;max-width: 0;overflow: hidden;text-align: left;background-color: #f0f8ff;}#sk-container-id-1 div.sk-toggleable__content pre {margin: 0.2em;color: black;border-radius: 0.25em;background-color: #f0f8ff;}#sk-container-id-1 input.sk-toggleable__control:checked~div.sk-toggleable__content {max-height: 200px;max-width: 100%;overflow: auto;}#sk-container-id-1 input.sk-toggleable__control:checked~label.sk-toggleable__label-arrow:before {content: \"▾\";}#sk-container-id-1 div.sk-estimator input.sk-toggleable__control:checked~label.sk-toggleable__label {background-color: #d4ebff;}#sk-container-id-1 div.sk-label input.sk-toggleable__control:checked~label.sk-toggleable__label {background-color: #d4ebff;}#sk-container-id-1 input.sk-hidden--visually {border: 0;clip: rect(1px 1px 1px 1px);clip: rect(1px, 1px, 1px, 1px);height: 1px;margin: -1px;overflow: hidden;padding: 0;position: absolute;width: 1px;}#sk-container-id-1 div.sk-estimator {font-family: monospace;background-color: #f0f8ff;border: 1px dotted black;border-radius: 0.25em;box-sizing: border-box;margin-bottom: 0.5em;}#sk-container-id-1 div.sk-estimator:hover {background-color: #d4ebff;}#sk-container-id-1 div.sk-parallel-item::after {content: \"\";width: 100%;border-bottom: 1px solid gray;flex-grow: 1;}#sk-container-id-1 div.sk-label:hover label.sk-toggleable__label {background-color: #d4ebff;}#sk-container-id-1 div.sk-serial::before {content: \"\";position: absolute;border-left: 1px solid gray;box-sizing: border-box;top: 0;bottom: 0;left: 50%;z-index: 0;}#sk-container-id-1 div.sk-serial {display: flex;flex-direction: column;align-items: center;background-color: white;padding-right: 0.2em;padding-left: 0.2em;position: relative;}#sk-container-id-1 div.sk-item {position: relative;z-index: 1;}#sk-container-id-1 div.sk-parallel {display: flex;align-items: stretch;justify-content: center;background-color: white;position: relative;}#sk-container-id-1 div.sk-item::before, #sk-container-id-1 div.sk-parallel-item::before {content: \"\";position: absolute;border-left: 1px solid gray;box-sizing: border-box;top: 0;bottom: 0;left: 50%;z-index: -1;}#sk-container-id-1 div.sk-parallel-item {display: flex;flex-direction: column;z-index: 1;position: relative;background-color: white;}#sk-container-id-1 div.sk-parallel-item:first-child::after {align-self: flex-end;width: 50%;}#sk-container-id-1 div.sk-parallel-item:last-child::after {align-self: flex-start;width: 50%;}#sk-container-id-1 div.sk-parallel-item:only-child::after {width: 0;}#sk-container-id-1 div.sk-dashed-wrapped {border: 1px dashed gray;margin: 0 0.4em 0.5em 0.4em;box-sizing: border-box;padding-bottom: 0.4em;background-color: white;}#sk-container-id-1 div.sk-label label {font-family: monospace;font-weight: bold;display: inline-block;line-height: 1.2em;}#sk-container-id-1 div.sk-label-container {text-align: center;}#sk-container-id-1 div.sk-container {/* jupyter's `normalize.less` sets `[hidden] { display: none; }` but bootstrap.min.css set `[hidden] { display: none !important; }` so we also need the `!important` here to be able to override the default hidden behavior on the sphinx rendered scikit-learn.org. See: https://github.com/scikit-learn/scikit-learn/issues/21755 */display: inline-block !important;position: relative;}#sk-container-id-1 div.sk-text-repr-fallback {display: none;}</style><div id=\"sk-container-id-1\" class=\"sk-top-container\"><div class=\"sk-text-repr-fallback\"><pre>LogisticRegression()</pre><b>In a Jupyter environment, please rerun this cell to show the HTML representation or trust the notebook. <br />On GitHub, the HTML representation is unable to render, please try loading this page with nbviewer.org.</b></div><div class=\"sk-container\" hidden><div class=\"sk-item\"><div class=\"sk-estimator sk-toggleable\"><input class=\"sk-toggleable__control sk-hidden--visually\" id=\"sk-estimator-id-1\" type=\"checkbox\" checked><label for=\"sk-estimator-id-1\" class=\"sk-toggleable__label sk-toggleable__label-arrow\">LogisticRegression</label><div class=\"sk-toggleable__content\"><pre>LogisticRegression()</pre></div></div></div></div></div>"
      ],
      "text/plain": [
       "LogisticRegression()"
      ]
     },
     "execution_count": 36,
     "metadata": {},
     "output_type": "execute_result"
    }
   ],
   "source": [
    "model.fit(X_train_features,Y_train)"
   ]
  },
  {
   "cell_type": "code",
   "execution_count": null,
   "id": "072b775f-2ca3-40a1-ba0c-e4ba7d8ce62a",
   "metadata": {},
   "outputs": [],
   "source": [
    "##This line trains your Logistic Regression model:\n",
    "          ##It uses the numerical features of the training emails (X_train_features) and \n",
    "          ##their corresponding labels (Y_train) to learn the patterns that distinguish spam from ham."
   ]
  },
  {
   "cell_type": "code",
   "execution_count": 37,
   "id": "59f9b3c1-1084-427d-b943-01549d821e67",
   "metadata": {},
   "outputs": [],
   "source": [
    "prediction_on_training_data=model.predict(X_train_features)\n",
    "accuracy_on_training_data=accuracy_score(Y_train,prediction_on_training_data)"
   ]
  },
  {
   "cell_type": "code",
   "execution_count": null,
   "id": "bb65c87e-0d50-4461-ab7d-66bba2a141f6",
   "metadata": {},
   "outputs": [],
   "source": [
    "##These lines evaluate the model's performance on the training data:\n",
    "           ##prediction_on_training_data = model.predict(X_train_features): \n",
    "                       ##The model predicts the labels for the training emails.\n",
    "           ##accuracy_on_training_data = accuracy_score(Y_train, prediction_on_training_data):  \n",
    "                       ##It calculates how often the model's predictions match the actual training labels, giving you the training accuracy."
   ]
  },
  {
   "cell_type": "code",
   "execution_count": 38,
   "id": "15e87445-c1df-4553-830e-509b4a750a92",
   "metadata": {},
   "outputs": [
    {
     "name": "stdout",
     "output_type": "stream",
     "text": [
      "Account on training data : 0.9670181736594121\n"
     ]
    }
   ],
   "source": [
    "print(\"Account on training data :\",accuracy_on_training_data)"
   ]
  },
  {
   "cell_type": "code",
   "execution_count": null,
   "id": "4139ccfc-ae81-4046-8234-009e5fbed4f3",
   "metadata": {},
   "outputs": [],
   "source": [
    "##This line prints the accuracy of your model on the training data.\n",
    "##It tells you how well the model learned to classify spam and ham emails from the data it was trained on."
   ]
  },
  {
   "cell_type": "code",
   "execution_count": 39,
   "id": "093e337e-0262-4fd3-81d2-10468b37e648",
   "metadata": {},
   "outputs": [],
   "source": [
    "prediction_on_test_data=model.predict(X_test_features)\n",
    "accuracy_on_test_data=accuracy_score(Y_test,prediction_on_test_data)"
   ]
  },
  {
   "cell_type": "code",
   "execution_count": null,
   "id": "90963eac-5d6d-42f9-8379-d51095f2a1a4",
   "metadata": {},
   "outputs": [],
   "source": [
    "##These lines evaluate the model's performance on the unseen test data:\n",
    "            ##prediction_on_test_data = model.predict(X_test_features): \n",
    "                     ##The model predicts the labels for the test emails.\n",
    "            ##accuracy_on_test_data = accuracy_score(Y_test, prediction_on_test_data): \n",
    "                     ##It calculates how often the model's predictions match the actual test labels, giving you the test accuracy. \n",
    "                     ##This is the crucial metric for evaluating how well your model generalizes."
   ]
  },
  {
   "cell_type": "code",
   "execution_count": 40,
   "id": "8b63a20a-3ae6-4a05-8ccd-1587e9ec65ed",
   "metadata": {},
   "outputs": [
    {
     "name": "stdout",
     "output_type": "stream",
     "text": [
      "Account on test data : 0.9659192825112107\n"
     ]
    }
   ],
   "source": [
    "print(\"Account on test data :\",accuracy_on_test_data)"
   ]
  },
  {
   "cell_type": "code",
   "execution_count": null,
   "id": "5407ee03-090d-4abc-bfe0-e6b999765f89",
   "metadata": {},
   "outputs": [],
   "source": [
    "##This line prints the accuracy of your model on the test data. This is the most important metric.\n",
    "##It shows how well your spam detection model performs on emails it hasn't seen before, giving you a realistic idea of its real-world effectiveness."
   ]
  },
  {
   "cell_type": "code",
   "execution_count": 45,
   "id": "3da029b5-aae0-474a-912e-41f2f7f259dc",
   "metadata": {},
   "outputs": [
    {
     "name": "stdout",
     "output_type": "stream",
     "text": [
      "[1]\n",
      "Ham mail\n"
     ]
    }
   ],
   "source": [
    "input_mail=[\"U dun say so early hor... U c already then say...\"] #input given from mail_data_csv file \n",
    "input_data_features=feature_extraction.transform(input_mail)\n",
    "prediction=model.predict(input_data_features)\n",
    "print(prediction)\n",
    "if(prediction[0]==1):\n",
    "    print(\"Ham mail\")\n",
    "else:\n",
    "    print(\"Spam mail\")\n"
   ]
  },
  {
   "cell_type": "code",
   "execution_count": 48,
   "id": "7e51f258-ea94-43d4-a9ef-98d5dab21509",
   "metadata": {},
   "outputs": [
    {
     "name": "stdout",
     "output_type": "stream",
     "text": [
      "[0]\n",
      "Spam mail\n"
     ]
    }
   ],
   "source": [
    "input_mail=[\"URGENT! You have won a 1 week FREE membership in our £100,000 Prize Jackpot! Txt the word: CLAIM to No: 81010 T&C www.dbuk.net LCCLTD POBOX 4403LDNW1A7RW18\"] #input given from mail_data_csv file \n",
    "input_data_features=feature_extraction.transform(input_mail)\n",
    "prediction=model.predict(input_data_features)\n",
    "print(prediction)\n",
    "if(prediction[0]==1):\n",
    "    print(\"Ham mail\")\n",
    "else:\n",
    "    print(\"Spam mail\")"
   ]
  },
  {
   "cell_type": "code",
   "execution_count": null,
   "id": "19bece1d-dd50-41a4-b206-89f4e504eb36",
   "metadata": {},
   "outputs": [],
   "source": [
    "##This code snippet takes a new email, converts it to numerical features, uses your trained model to predict if it's spam or ham, \n",
    "##and then prints the result.\n",
    "\n",
    "##Breakdown:\n",
    "\n",
    "##input_mail = [\"U dun say so early hor... U c already then say...\"]:\n",
    "         ##Creates a list containing the email you want to classify.\n",
    "##input_data_features = feature_extraction.transform(input_mail):\n",
    "         ##Uses the same TF-IDF vectorizer you trained earlier to convert the input email into numerical features.\n",
    "##prediction = model.predict(input_data_features):\n",
    "         ##Uses your trained Logistic Regression model to predict whether the email is spam (0) or ham (1).\n",
    "##print(prediction):\n",
    "         ##Prints the prediction (0 or 1).\n",
    "##if (prediction[0] == 1): ... else: ...:\n",
    "    ##Checks the prediction:\n",
    "         ##If it's 1, it prints \"Ham mail.\"\n",
    "         ##If it's 0, it prints \"Spam mail.\""
   ]
  }
 ],
 "metadata": {
  "kernelspec": {
   "display_name": "Python 3 (ipykernel)",
   "language": "python",
   "name": "python3"
  },
  "language_info": {
   "codemirror_mode": {
    "name": "ipython",
    "version": 3
   },
   "file_extension": ".py",
   "mimetype": "text/x-python",
   "name": "python",
   "nbconvert_exporter": "python",
   "pygments_lexer": "ipython3",
   "version": "3.11.7"
  }
 },
 "nbformat": 4,
 "nbformat_minor": 5
}
